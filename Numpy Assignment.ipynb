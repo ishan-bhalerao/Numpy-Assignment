{
 "cells": [
  {
   "cell_type": "markdown",
   "id": "aed6e428",
   "metadata": {},
   "source": [
    "# 1. What is a Python library? Why ^o we use Python libraries?\n",
    "\n",
    "A Python library is a collection of modules and functions that enable you to perform specific tasks without having to write the code from scratch. Libraries in Python are pre-written pieces of code that provide reusable functionality to help developers accomplish common tasks efficiently. These libraries cover a wide range of domains and can be related to various purposes, such as data manipulation, scientific computing, web development, machine learning, and more.\n",
    "\n",
    "Here are some reasons why Python libraries are widely used:\n",
    "\n",
    "Code Reusability: Libraries contain pre-written code that you can reuse in your own projects. This helps save time and effort, as you don't need to reinvent the wheel for common tasks.\n",
    "\n",
    "Efficiency: Libraries are often optimized and well-tested, providing efficient solutions to common problems. This allows developers to focus on high-level aspects of their projects without getting bogged down in low-level implementation details.\n",
    "\n",
    "Community Contributions: The Python community is large and active, leading to a vast ecosystem of libraries. This means that if you have a specific task, there's a good chance that a library already exists to handle it.\n",
    "\n",
    "Specialized Functionality: Many libraries are designed to address specific domains or industries, providing specialized functionality and tools. For example, NumPy is widely used in scientific computing, while Django is popular for web development.\n",
    "\n",
    "Open Source Collaboration: Python libraries are often open source, encouraging collaboration and contributions from the community. This fosters the development of high-quality, well-maintained code.\n",
    "\n",
    "Interoperability: Python libraries are designed to work seamlessly with each other, promoting interoperability and the ability to combine different tools to create powerful solutions.\n",
    "\n",
    "Overall, Python libraries enhance the productivity of developers by offering a rich set of tools and functionality that can be easily integrated into their projects, enabling them to focus on solving specific problems rather than writing generic code."
   ]
  },
  {
   "cell_type": "markdown",
   "id": "2858c566",
   "metadata": {},
   "source": [
    "# 2. What is the ^ifference between Numpy array an^ List?\n",
    "NumPy arrays and Python lists are both used to store and manipulate collections of data, but there are several key differences between them:\n",
    "\n",
    "Homogeneity:\n",
    "\n",
    "NumPy Array: NumPy arrays are homogeneous, meaning all elements must be of the same data type. This homogeneity allows for more efficient storage and operations on the data.\n",
    "List: Python lists can contain elements of different data types, making them heterogeneous.\n",
    "Performance:\n",
    "\n",
    "NumPy Array: NumPy arrays are more memory-efficient and offer faster numerical operations compared to Python lists. NumPy is implemented in C and operates on contiguous blocks of memory, leading to better performance for mathematical operations.\n",
    "List: Python lists are more flexible but can be less efficient for numerical operations, especially when dealing with large datasets.\n",
    "Functionality:\n",
    "\n",
    "NumPy Array: NumPy provides a wide range of mathematical functions and operations that can be applied to entire arrays without the need for explicit looping. This makes it well-suited for numerical and scientific computing.\n",
    "List: Lists are more general-purpose and offer a variety of methods for basic operations. However, numerical operations on lists often require explicit iteration.\n",
    "Size:\n",
    "\n",
    "NumPy Array: NumPy arrays are more compact in terms of memory usage compared to Python lists, especially when dealing with large datasets.\n",
    "List: Lists may consume more memory due to their flexibility in handling different data types.\n",
    "Syntax:\n",
    "\n",
    "NumPy Array: NumPy arrays support vectorized operations, allowing you to perform operations on entire arrays at once. This leads to concise and readable code.\n",
    "List: Performing operations on each element of a list usually involves using loops, which can make the code longer and potentially less efficient for numerical operations.\n",
    "In summary, while lists provide more flexibility and are suitable for a wide range of tasks, NumPy arrays are specifically designed for numerical operations and offer better performance and memory efficiency in such scenarios. The choice between them depends on the specific requirements of the task at hand."
   ]
  },
  {
   "cell_type": "code",
   "execution_count": 7,
   "id": "3e08522d",
   "metadata": {},
   "outputs": [
    {
     "data": {
      "text/plain": [
       "array([[ 1,  2,  3,  4],\n",
       "       [ 5,  6,  7,  8],\n",
       "       [ 9, 10, 11, 12]])"
      ]
     },
     "execution_count": 7,
     "metadata": {},
     "output_type": "execute_result"
    }
   ],
   "source": [
    "#3. Find the shape, size and dimension of the following array?\n",
    "#[[1, 2, 3, 4]\n",
    "#[5, 6, 7, 8],\n",
    "#[9, 10, 11, 12]]\n",
    "\n",
    "import numpy as np\n",
    "\n",
    "arr=np.array([[1,2,3,4],[5,6,7,8],[9,10,11,12]])\n",
    "arr"
   ]
  },
  {
   "cell_type": "code",
   "execution_count": 8,
   "id": "d6da53a8",
   "metadata": {},
   "outputs": [
    {
     "data": {
      "text/plain": [
       "(3, 4)"
      ]
     },
     "execution_count": 8,
     "metadata": {},
     "output_type": "execute_result"
    }
   ],
   "source": [
    "arr.shape"
   ]
  },
  {
   "cell_type": "code",
   "execution_count": 9,
   "id": "bd21ef4b",
   "metadata": {},
   "outputs": [
    {
     "data": {
      "text/plain": [
       "12"
      ]
     },
     "execution_count": 9,
     "metadata": {},
     "output_type": "execute_result"
    }
   ],
   "source": [
    "arr.size"
   ]
  },
  {
   "cell_type": "code",
   "execution_count": 11,
   "id": "9d6e3bd9",
   "metadata": {},
   "outputs": [
    {
     "data": {
      "text/plain": [
       "2"
      ]
     },
     "execution_count": 11,
     "metadata": {},
     "output_type": "execute_result"
    }
   ],
   "source": [
    "arr.ndim"
   ]
  },
  {
   "cell_type": "code",
   "execution_count": 12,
   "id": "c9f9fae6",
   "metadata": {},
   "outputs": [
    {
     "data": {
      "text/plain": [
       "array([[ 1,  2,  3,  4],\n",
       "       [ 5,  6,  7,  8],\n",
       "       [ 9, 10, 11, 12]])"
      ]
     },
     "execution_count": 12,
     "metadata": {},
     "output_type": "execute_result"
    }
   ],
   "source": [
    "# 4. Write python code to access the first row of the following array?\n",
    "#[[1, 2, 3, 4]\n",
    "#[5, 6, 7, 8],\n",
    "#[9, 10, 11, 12]]\n",
    "\n",
    "arr"
   ]
  },
  {
   "cell_type": "code",
   "execution_count": 15,
   "id": "9cffa33d",
   "metadata": {},
   "outputs": [
    {
     "data": {
      "text/plain": [
       "array([1, 2, 3, 4])"
      ]
     },
     "execution_count": 15,
     "metadata": {},
     "output_type": "execute_result"
    }
   ],
   "source": [
    "arr[0]"
   ]
  },
  {
   "cell_type": "code",
   "execution_count": 19,
   "id": "0b8cb2ce",
   "metadata": {},
   "outputs": [
    {
     "data": {
      "text/plain": [
       "12"
      ]
     },
     "execution_count": 19,
     "metadata": {},
     "output_type": "execute_result"
    }
   ],
   "source": [
    "# 5. How do you access the element at the third row and fourth column from the given numpy array?\n",
    "#[[1, 2, 3, 4]\n",
    "#[5, 6, 7, 8],\n",
    "#[9, 10, 11, 12]]\n",
    "\n",
    "arr[2,3]"
   ]
  },
  {
   "cell_type": "code",
   "execution_count": 20,
   "id": "77987421",
   "metadata": {},
   "outputs": [
    {
     "data": {
      "text/plain": [
       "array([[ 2,  4],\n",
       "       [ 6,  8],\n",
       "       [10, 12]])"
      ]
     },
     "execution_count": 20,
     "metadata": {},
     "output_type": "execute_result"
    }
   ],
   "source": [
    "#6. Write code to extract all odd-indexed elements from the given numpy array?\n",
    "#[[1, 2, 3, 4]\n",
    "#[5, 6, 7, 8],\n",
    "#[9, 10, 11, 12]]\n",
    "\n",
    "arr[:, 1::2]"
   ]
  },
  {
   "cell_type": "code",
   "execution_count": 26,
   "id": "76596ce1",
   "metadata": {},
   "outputs": [
    {
     "data": {
      "text/plain": [
       "array([[0.19693362, 0.96166016, 0.51083459],\n",
       "       [0.72746312, 0.21584832, 0.12195733],\n",
       "       [0.77787646, 0.20520065, 0.94100446]])"
      ]
     },
     "execution_count": 26,
     "metadata": {},
     "output_type": "execute_result"
    }
   ],
   "source": [
    "#7. How can you generate a random 3x3 matrix with values between 0 and 1?\n",
    "\n",
    "import random\n",
    "np.random.random((3,3))"
   ]
  },
  {
   "cell_type": "markdown",
   "id": "76aeb17a",
   "metadata": {},
   "source": [
    "#8. Describe the difference between np.random.rand and np.random.randn?\n",
    "\n",
    "It seems there's a typo in your question, but I'll assume you meant to ask about the difference between np.random.rand and np.random.randn in the NumPy library.\n",
    "\n",
    "np.random.rand:\n",
    "\n",
    "This function generates random values from a uniform distribution over the interval [0, 1) .\n",
    "It takes dimensions as arguments and returns an array with random values in the specified shape.\n",
    "Syntax: np.random.rand(d0, d1, ..., dn)\n",
    "Example:"
   ]
  },
  {
   "cell_type": "code",
   "execution_count": 31,
   "id": "9edeca9d",
   "metadata": {},
   "outputs": [
    {
     "data": {
      "text/plain": [
       "array([[0.71624202, 0.95140191, 0.58580024],\n",
       "       [0.45940741, 0.60927947, 0.48205087],\n",
       "       [0.34301042, 0.41572508, 0.50999001]])"
      ]
     },
     "execution_count": 31,
     "metadata": {},
     "output_type": "execute_result"
    }
   ],
   "source": [
    "import numpy as np\n",
    "\n",
    "random_values = np.random.rand(3, 3)\n",
    "random_values\n"
   ]
  },
  {
   "cell_type": "markdown",
   "id": "fe7ccdd1",
   "metadata": {},
   "source": [
    "np.random.randn:\n",
    "\n",
    "This function generates random values from a standard normal distribution (mean=0, standard deviation=1).\n",
    "Like np.random.rand, it takes dimensions as arguments and returns an array with random values in the specified shape.\n",
    "Syntax: np.random.randn(d0, d1, ..., dn)\n",
    "Example:\n",
    "\n",
    "\n"
   ]
  },
  {
   "cell_type": "code",
   "execution_count": 34,
   "id": "ca269308",
   "metadata": {},
   "outputs": [
    {
     "data": {
      "text/plain": [
       "array([[ 0.55425148,  1.5019002 ,  1.63773333],\n",
       "       [ 1.35583024, -0.52141341,  2.18476938],\n",
       "       [-2.2127371 ,  0.83093258,  0.31142297]])"
      ]
     },
     "execution_count": 34,
     "metadata": {},
     "output_type": "execute_result"
    }
   ],
   "source": [
    "\n",
    "import numpy as np\n",
    "\n",
    "random_values = np.random.randn(3, 3)\n",
    "random_values"
   ]
  },
  {
   "cell_type": "code",
   "execution_count": 43,
   "id": "5f484dbf",
   "metadata": {},
   "outputs": [],
   "source": [
    "#9. Write co^e to increase the ^imension of the following array?\n",
    "#[[1, 2, 3, 4]\n",
    "#[5, 6, 7, 8],\n",
    "#[9, 10, 11, 12]]\n",
    "arr.ndim\n",
    "arr2=np.expand_dims(arr,axis=0)"
   ]
  },
  {
   "cell_type": "code",
   "execution_count": 44,
   "id": "73701bda",
   "metadata": {},
   "outputs": [
    {
     "data": {
      "text/plain": [
       "2"
      ]
     },
     "execution_count": 44,
     "metadata": {},
     "output_type": "execute_result"
    }
   ],
   "source": [
    "arr.ndim"
   ]
  },
  {
   "cell_type": "code",
   "execution_count": 41,
   "id": "a39dc606",
   "metadata": {},
   "outputs": [
    {
     "data": {
      "text/plain": [
       "3"
      ]
     },
     "execution_count": 41,
     "metadata": {},
     "output_type": "execute_result"
    }
   ],
   "source": [
    "arr2.ndim"
   ]
  },
  {
   "cell_type": "code",
   "execution_count": 45,
   "id": "6dc02827",
   "metadata": {},
   "outputs": [
    {
     "data": {
      "text/plain": [
       "array([[ 1,  2,  3,  4],\n",
       "       [ 5,  6,  7,  8],\n",
       "       [ 9, 10, 11, 12]])"
      ]
     },
     "execution_count": 45,
     "metadata": {},
     "output_type": "execute_result"
    }
   ],
   "source": [
    "#10. How to transpose the following array in NumPy?\n",
    "#[[1, 2, 3, 4]\n",
    "#[5, 6, 7, 8],\n",
    "#[9, 10, 11, 12]]\n",
    "arr"
   ]
  },
  {
   "cell_type": "code",
   "execution_count": 46,
   "id": "3c0e016d",
   "metadata": {},
   "outputs": [
    {
     "data": {
      "text/plain": [
       "array([[ 1,  5,  9],\n",
       "       [ 2,  6, 10],\n",
       "       [ 3,  7, 11],\n",
       "       [ 4,  8, 12]])"
      ]
     },
     "execution_count": 46,
     "metadata": {},
     "output_type": "execute_result"
    }
   ],
   "source": [
    "arr.T"
   ]
  },
  {
   "cell_type": "code",
   "execution_count": 59,
   "id": "ecfbc18a",
   "metadata": {},
   "outputs": [],
   "source": [
    "#11. Consi^er the following matrix:\n",
    "#Matrix A: [[1, 2, 3, 4] [5, 6, 7, 8],[9, 10, 11, 12]]\n",
    "#Matrix B: [[1, 2, 3, 4] [5, 6, 7, 8],[9, 10, 11, 12]]\n",
    "\n",
    "A=np.matrix([[1, 2, 3, 4],[5, 6, 7, 8],[9, 10, 11, 12]])\n",
    "B=np.matrix([[1, 2, 3, 4],[5, 6, 7, 8],[9, 10, 11, 12]])"
   ]
  },
  {
   "cell_type": "code",
   "execution_count": 60,
   "id": "b3209b41",
   "metadata": {},
   "outputs": [
    {
     "data": {
      "text/plain": [
       "matrix([[ 1,  2,  3,  4],\n",
       "        [ 5,  6,  7,  8],\n",
       "        [ 9, 10, 11, 12]])"
      ]
     },
     "execution_count": 60,
     "metadata": {},
     "output_type": "execute_result"
    }
   ],
   "source": [
    "A"
   ]
  },
  {
   "cell_type": "code",
   "execution_count": 61,
   "id": "da0aefe1",
   "metadata": {},
   "outputs": [
    {
     "data": {
      "text/plain": [
       "matrix([[ 1,  2,  3,  4],\n",
       "        [ 5,  6,  7,  8],\n",
       "        [ 9, 10, 11, 12]])"
      ]
     },
     "execution_count": 61,
     "metadata": {},
     "output_type": "execute_result"
    }
   ],
   "source": [
    "B"
   ]
  },
  {
   "cell_type": "code",
   "execution_count": 62,
   "id": "106d2532",
   "metadata": {},
   "outputs": [],
   "source": [
    "#1.Index wise multiplication'\n",
    "\n",
    "C=np.multiply(A,B)"
   ]
  },
  {
   "cell_type": "code",
   "execution_count": 63,
   "id": "d6482765",
   "metadata": {},
   "outputs": [
    {
     "data": {
      "text/plain": [
       "matrix([[  1,   4,   9,  16],\n",
       "        [ 25,  36,  49,  64],\n",
       "        [ 81, 100, 121, 144]])"
      ]
     },
     "execution_count": 63,
     "metadata": {},
     "output_type": "execute_result"
    }
   ],
   "source": [
    "C"
   ]
  },
  {
   "cell_type": "code",
   "execution_count": 67,
   "id": "d7cf80de",
   "metadata": {},
   "outputs": [
    {
     "data": {
      "text/plain": [
       "array([[  1,   4,   9,  16],\n",
       "       [ 25,  36,  49,  64],\n",
       "       [ 81, 100, 121, 144]])"
      ]
     },
     "execution_count": 67,
     "metadata": {},
     "output_type": "execute_result"
    }
   ],
   "source": [
    "#2. Matrix multiplication'\n",
    "A=np.array([[1, 2, 3, 4],[5, 6, 7, 8],[9, 10, 11, 12]])\n",
    "B=np.array([[1, 2, 3, 4],[5, 6, 7, 8],[9, 10, 11, 12]])\n",
    "A * B"
   ]
  },
  {
   "cell_type": "code",
   "execution_count": 69,
   "id": "7bd7ae38",
   "metadata": {},
   "outputs": [
    {
     "data": {
      "text/plain": [
       "array([[ 2,  4,  6,  8],\n",
       "       [10, 12, 14, 16],\n",
       "       [18, 20, 22, 24]])"
      ]
     },
     "execution_count": 69,
     "metadata": {},
     "output_type": "execute_result"
    }
   ],
   "source": [
    "# Add both matrices\n",
    "A + B"
   ]
  },
  {
   "cell_type": "code",
   "execution_count": 70,
   "id": "d79ef5e1",
   "metadata": {},
   "outputs": [
    {
     "data": {
      "text/plain": [
       "array([[0, 0, 0, 0],\n",
       "       [0, 0, 0, 0],\n",
       "       [0, 0, 0, 0]])"
      ]
     },
     "execution_count": 70,
     "metadata": {},
     "output_type": "execute_result"
    }
   ],
   "source": [
    "# subtract matrix B from A\n",
    "B - A"
   ]
  },
  {
   "cell_type": "code",
   "execution_count": 71,
   "id": "20edac3b",
   "metadata": {},
   "outputs": [
    {
     "data": {
      "text/plain": [
       "array([[1., 1., 1., 1.],\n",
       "       [1., 1., 1., 1.],\n",
       "       [1., 1., 1., 1.]])"
      ]
     },
     "execution_count": 71,
     "metadata": {},
     "output_type": "execute_result"
    }
   ],
   "source": [
    "# Divide matrix B by A\n",
    "B/A"
   ]
  },
  {
   "cell_type": "code",
   "execution_count": 74,
   "id": "f15f1864",
   "metadata": {},
   "outputs": [
    {
     "data": {
      "text/plain": [
       "array([[ 16777216,  33554432,  50331648,  67108864],\n",
       "       [ 83886080, 100663296, 117440512, 134217728],\n",
       "       [150994944, 167772160, 184549376, 201326592]])"
      ]
     },
     "execution_count": 74,
     "metadata": {},
     "output_type": "execute_result"
    }
   ],
   "source": [
    "#12. Which function in Numpy can be use^ to swap the byte or^er of an array?\n",
    "arr.byteswap()"
   ]
  },
  {
   "cell_type": "markdown",
   "id": "0b91e9db",
   "metadata": {},
   "source": [
    "# 13. What is the significance of the np.linalg.inv function?\n",
    "The np.linalg.inv function in NumPy is used to compute the multiplicative inverse of a matrix. In other words, it calculates the inverse of a square matrix, if it exists. The resulting inverse matrix, when multiplied by the original matrix, yields the identity matrix.\n",
    "\n",
    "Here's an example of how to use np.linalg.inv:\n",
    "\n",
    "python\n",
    "Copy code\n",
    "\n",
    "The significance of np.linalg.inv lies in various applications, such as:\n",
    "\n",
    "Solving Linear Systems: Given a system of linear equations in the form Ax = B, where A is a coefficient matrix and B is a column vector, the solution x can be found using the inverse of A: x = A^(-1) * B.\n",
    "\n",
    "Matrix Equation Solving: It is used to solve matrix equations of the form AX = B, where A, B, and X are matrices. The solution is given by X = A^(-1) * B.\n",
    "\n",
    "Determining Singular Matrices: If the matrix is singular (non-invertible), attempting to compute its inverse will result in an error. Therefore, the presence or absence of an inverse provides information about the singularity of a matrix.\n",
    "\n",
    "It's important to note that not all matrices have an inverse. A matrix must be square (having the same number of rows and columns) and non-singular (having a non-zero determinant) to have an inverse. The np.linalg.inv function is a valuable tool for solving various mathematical problems and linear algebra applications."
   ]
  },
  {
   "cell_type": "code",
   "execution_count": 75,
   "id": "a439d945",
   "metadata": {},
   "outputs": [
    {
     "name": "stdout",
     "output_type": "stream",
     "text": [
      "Original Matrix:\n",
      "[[4 7]\n",
      " [2 6]]\n",
      "\n",
      "Inverse Matrix:\n",
      "[[ 0.6 -0.7]\n",
      " [-0.2  0.4]]\n"
     ]
    }
   ],
   "source": [
    "import numpy as np\n",
    "\n",
    "# Create a square matrix\n",
    "matrix = np.array([[4, 7],\n",
    "                   [2, 6]])\n",
    "\n",
    "# Calculate the inverse of the matrix\n",
    "inverse_matrix = np.linalg.inv(matrix)\n",
    "\n",
    "# Print the result\n",
    "print(\"Original Matrix:\")\n",
    "print(matrix)\n",
    "\n",
    "print(\"\\nInverse Matrix:\")\n",
    "print(inverse_matrix)"
   ]
  },
  {
   "cell_type": "code",
   "execution_count": 76,
   "id": "17730402",
   "metadata": {},
   "outputs": [
    {
     "name": "stdout",
     "output_type": "stream",
     "text": [
      "Original Array:\n",
      "[1 2 3 4 5 6]\n",
      "\n",
      "Reshaped Array:\n",
      "[[1 2 3]\n",
      " [4 5 6]]\n"
     ]
    }
   ],
   "source": [
    "#14. What does the np.reshape function do, and how is it used?\n",
    "\n",
    "import numpy as np\n",
    "\n",
    "# Create a 1D array\n",
    "original_array = np.array([1, 2, 3, 4, 5, 6])\n",
    "\n",
    "# Reshape to a 2x3 array\n",
    "reshaped_array = np.reshape(original_array, (2, 3))\n",
    "\n",
    "print(\"Original Array:\")\n",
    "print(original_array)\n",
    "\n",
    "print(\"\\nReshaped Array:\")\n",
    "print(reshaped_array)\n"
   ]
  },
  {
   "cell_type": "markdown",
   "id": "84074dbd",
   "metadata": {},
   "source": [
    "#15. What is broadcasting in Numpy?\n",
    "Broadcasting in NumPy is a mechanism that allows NumPy to perform operations on arrays of different shapes and sizes. It enables element-wise operations between arrays of different shapes without explicitly reshaping them. Broadcasting is particularly useful when working with arrays of different dimensions or when performing operations between arrays and scalars.\n",
    "\n",
    "The key concept behind broadcasting is that when operating on two arrays, NumPy compares their shapes element-wise, starting from the trailing dimensions. The dimensions are compatible for broadcasting when either:\n",
    "\n",
    "They are equal.\n",
    "One of them is 1.\n",
    "NumPy automatically adjusts the smaller array to have the same shape as the larger one, effectively replicating the smaller array along the necessary dimensions. This allows for efficient element-wise operations without the need for explicit reshaping.\n",
    "\n",
    "Here's a simple example to illustrate broadcasting:\n",
    "\n",
    "\n"
   ]
  },
  {
   "cell_type": "code",
   "execution_count": 77,
   "id": "90befacf",
   "metadata": {},
   "outputs": [
    {
     "name": "stdout",
     "output_type": "stream",
     "text": [
      "Original Array:\n",
      "[[1 2 3]\n",
      " [4 5 6]\n",
      " [7 8 9]]\n",
      "\n",
      "Result after Broadcasting:\n",
      "[[11 12 13]\n",
      " [14 15 16]\n",
      " [17 18 19]]\n"
     ]
    }
   ],
   "source": [
    "import numpy as np\n",
    "\n",
    "# Create a 3x3 array\n",
    "A = np.array([[1, 2, 3],\n",
    "              [4, 5, 6],\n",
    "              [7, 8, 9]])\n",
    "\n",
    "# Add a scalar to each element using broadcasting\n",
    "result = A + 10\n",
    "\n",
    "print(\"Original Array:\")\n",
    "print(A)\n",
    "\n",
    "print(\"\\nResult after Broadcasting:\")\n",
    "print(result)"
   ]
  },
  {
   "cell_type": "code",
   "execution_count": null,
   "id": "c2612f78",
   "metadata": {},
   "outputs": [],
   "source": []
  }
 ],
 "metadata": {
  "kernelspec": {
   "display_name": "Python 3",
   "language": "python",
   "name": "python3"
  },
  "language_info": {
   "codemirror_mode": {
    "name": "ipython",
    "version": 3
   },
   "file_extension": ".py",
   "mimetype": "text/x-python",
   "name": "python",
   "nbconvert_exporter": "python",
   "pygments_lexer": "ipython3",
   "version": "3.8.8"
  }
 },
 "nbformat": 4,
 "nbformat_minor": 5
}
